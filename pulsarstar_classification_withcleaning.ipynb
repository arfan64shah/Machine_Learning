{
 "cells": [
  {
   "cell_type": "markdown",
   "id": "2192ba91",
   "metadata": {},
   "source": [
    "# Import required libraries and import dataset as well"
   ]
  },
  {
   "cell_type": "code",
   "execution_count": 224,
   "id": "b91f30c2",
   "metadata": {},
   "outputs": [],
   "source": [
    "#import necessary libraries and read the dataset\n",
    "import pandas as pd\n",
    "import numpy as np\n",
    "\n",
    "dataset = pd.read_csv(\"pulsar_stars.csv\")"
   ]
  },
  {
   "cell_type": "code",
   "execution_count": 225,
   "id": "9c352b80",
   "metadata": {},
   "outputs": [
    {
     "data": {
      "text/html": [
       "<div>\n",
       "<style scoped>\n",
       "    .dataframe tbody tr th:only-of-type {\n",
       "        vertical-align: middle;\n",
       "    }\n",
       "\n",
       "    .dataframe tbody tr th {\n",
       "        vertical-align: top;\n",
       "    }\n",
       "\n",
       "    .dataframe thead th {\n",
       "        text-align: right;\n",
       "    }\n",
       "</style>\n",
       "<table border=\"1\" class=\"dataframe\">\n",
       "  <thead>\n",
       "    <tr style=\"text-align: right;\">\n",
       "      <th></th>\n",
       "      <th>Mean_of_the_integrated_profile</th>\n",
       "      <th>Standard_deviation_of_the_integrated_profile</th>\n",
       "      <th>Excess_kurtosis_of_the_integrated_profile</th>\n",
       "      <th>Skewness_of_the_integrated_profile</th>\n",
       "      <th>Mean_of_the_DM_SNR_curve</th>\n",
       "      <th>Standard_deviation_of_the_DM_SNR_curve</th>\n",
       "      <th>Excess_kurtosis_of_the_DM_SNR_curve</th>\n",
       "      <th>Skewness_of_the_DM_SNR_curve</th>\n",
       "      <th>target_class</th>\n",
       "    </tr>\n",
       "  </thead>\n",
       "  <tbody>\n",
       "    <tr>\n",
       "      <th>0</th>\n",
       "      <td>140.562500</td>\n",
       "      <td>55.683782</td>\n",
       "      <td>-0.234571</td>\n",
       "      <td>-0.699648</td>\n",
       "      <td>3.199833</td>\n",
       "      <td>19.110426</td>\n",
       "      <td>7.975532</td>\n",
       "      <td>74.242225</td>\n",
       "      <td>0</td>\n",
       "    </tr>\n",
       "    <tr>\n",
       "      <th>1</th>\n",
       "      <td>102.507812</td>\n",
       "      <td>58.882430</td>\n",
       "      <td>0.465318</td>\n",
       "      <td>-0.515088</td>\n",
       "      <td>1.677258</td>\n",
       "      <td>14.860146</td>\n",
       "      <td>10.576487</td>\n",
       "      <td>127.393580</td>\n",
       "      <td>0</td>\n",
       "    </tr>\n",
       "    <tr>\n",
       "      <th>2</th>\n",
       "      <td>103.015625</td>\n",
       "      <td>39.341649</td>\n",
       "      <td>0.323328</td>\n",
       "      <td>1.051164</td>\n",
       "      <td>3.121237</td>\n",
       "      <td>21.744669</td>\n",
       "      <td>7.735822</td>\n",
       "      <td>63.171909</td>\n",
       "      <td>0</td>\n",
       "    </tr>\n",
       "    <tr>\n",
       "      <th>3</th>\n",
       "      <td>136.750000</td>\n",
       "      <td>57.178449</td>\n",
       "      <td>-0.068415</td>\n",
       "      <td>-0.636238</td>\n",
       "      <td>3.642977</td>\n",
       "      <td>20.959280</td>\n",
       "      <td>6.896499</td>\n",
       "      <td>53.593661</td>\n",
       "      <td>0</td>\n",
       "    </tr>\n",
       "    <tr>\n",
       "      <th>4</th>\n",
       "      <td>88.726562</td>\n",
       "      <td>40.672225</td>\n",
       "      <td>0.600866</td>\n",
       "      <td>1.123492</td>\n",
       "      <td>1.178930</td>\n",
       "      <td>11.468720</td>\n",
       "      <td>14.269573</td>\n",
       "      <td>252.567306</td>\n",
       "      <td>0</td>\n",
       "    </tr>\n",
       "  </tbody>\n",
       "</table>\n",
       "</div>"
      ],
      "text/plain": [
       "   Mean_of_the_integrated_profile  \\\n",
       "0                      140.562500   \n",
       "1                      102.507812   \n",
       "2                      103.015625   \n",
       "3                      136.750000   \n",
       "4                       88.726562   \n",
       "\n",
       "   Standard_deviation_of_the_integrated_profile  \\\n",
       "0                                     55.683782   \n",
       "1                                     58.882430   \n",
       "2                                     39.341649   \n",
       "3                                     57.178449   \n",
       "4                                     40.672225   \n",
       "\n",
       "   Excess_kurtosis_of_the_integrated_profile  \\\n",
       "0                                  -0.234571   \n",
       "1                                   0.465318   \n",
       "2                                   0.323328   \n",
       "3                                  -0.068415   \n",
       "4                                   0.600866   \n",
       "\n",
       "   Skewness_of_the_integrated_profile  Mean_of_the_DM_SNR_curve  \\\n",
       "0                           -0.699648                  3.199833   \n",
       "1                           -0.515088                  1.677258   \n",
       "2                            1.051164                  3.121237   \n",
       "3                           -0.636238                  3.642977   \n",
       "4                            1.123492                  1.178930   \n",
       "\n",
       "   Standard_deviation_of_the_DM_SNR_curve  \\\n",
       "0                               19.110426   \n",
       "1                               14.860146   \n",
       "2                               21.744669   \n",
       "3                               20.959280   \n",
       "4                               11.468720   \n",
       "\n",
       "    Excess_kurtosis_of_the_DM_SNR_curve   Skewness_of_the_DM_SNR_curve  \\\n",
       "0                              7.975532                      74.242225   \n",
       "1                             10.576487                     127.393580   \n",
       "2                              7.735822                      63.171909   \n",
       "3                              6.896499                      53.593661   \n",
       "4                             14.269573                     252.567306   \n",
       "\n",
       "   target_class  \n",
       "0             0  \n",
       "1             0  \n",
       "2             0  \n",
       "3             0  \n",
       "4             0  "
      ]
     },
     "execution_count": 225,
     "metadata": {},
     "output_type": "execute_result"
    }
   ],
   "source": [
    "dataset.head()"
   ]
  },
  {
   "cell_type": "markdown",
   "id": "64ee5ef8",
   "metadata": {},
   "source": [
    "# Exploratory Data Analysis"
   ]
  },
  {
   "cell_type": "code",
   "execution_count": 226,
   "id": "657a1283",
   "metadata": {},
   "outputs": [
    {
     "data": {
      "text/plain": [
       "17898"
      ]
     },
     "execution_count": 226,
     "metadata": {},
     "output_type": "execute_result"
    }
   ],
   "source": [
    "#find length of dataset\n",
    "len(dataset)"
   ]
  },
  {
   "cell_type": "code",
   "execution_count": 227,
   "id": "ba816dd0",
   "metadata": {},
   "outputs": [
    {
     "data": {
      "text/plain": [
       "(17898, 9)"
      ]
     },
     "execution_count": 227,
     "metadata": {},
     "output_type": "execute_result"
    }
   ],
   "source": [
    "#find shape of dataset\n",
    "dataset.shape"
   ]
  },
  {
   "cell_type": "markdown",
   "id": "18985ac7",
   "metadata": {},
   "source": [
    "So we have 9 features and 17898 instances"
   ]
  },
  {
   "cell_type": "code",
   "execution_count": 228,
   "id": "e971f4d5",
   "metadata": {},
   "outputs": [
    {
     "data": {
      "text/plain": [
       "Index(['Mean_of_the_integrated_profile',\n",
       "       'Standard_deviation_of_the_integrated_profile',\n",
       "       'Excess_kurtosis_of_the_integrated_profile',\n",
       "       'Skewness_of_the_integrated_profile', 'Mean_of_the_DM_SNR_curve',\n",
       "       'Standard_deviation_of_the_DM_SNR_curve',\n",
       "       ' Excess_kurtosis_of_the_DM_SNR_curve', ' Skewness_of_the_DM_SNR_curve',\n",
       "       'target_class'],\n",
       "      dtype='object')"
      ]
     },
     "execution_count": 228,
     "metadata": {},
     "output_type": "execute_result"
    }
   ],
   "source": [
    "#names of all the columns\n",
    "col_names = dataset.columns\n",
    "col_names"
   ]
  },
  {
   "cell_type": "markdown",
   "id": "5a0e3101",
   "metadata": {},
   "source": [
    "We can see that there are spaces in most of the columns and we need to remove them "
   ]
  },
  {
   "cell_type": "code",
   "execution_count": 229,
   "id": "fff937ee",
   "metadata": {},
   "outputs": [
    {
     "data": {
      "text/plain": [
       "Index(['Mean_of_the_integrated_profile',\n",
       "       'Standard_deviation_of_the_integrated_profile',\n",
       "       'Excess_kurtosis_of_the_integrated_profile',\n",
       "       'Skewness_of_the_integrated_profile', 'Mean_of_the_DM_SNR_curve',\n",
       "       'Standard_deviation_of_the_DM_SNR_curve',\n",
       "       'Excess_kurtosis_of_the_DM_SNR_curve', 'Skewness_of_the_DM_SNR_curve',\n",
       "       'target_class'],\n",
       "      dtype='object')"
      ]
     },
     "execution_count": 229,
     "metadata": {},
     "output_type": "execute_result"
    }
   ],
   "source": [
    "#lets remove that space\n",
    "\n",
    "dataset_cols = dataset.columns.str.strip()\n",
    "dataset_cols "
   ]
  },
  {
   "cell_type": "markdown",
   "id": "32245fb2",
   "metadata": {},
   "source": [
    "Now the space is gone and all columns seems to be very clean"
   ]
  },
  {
   "cell_type": "code",
   "execution_count": 230,
   "id": "47ad0c3c",
   "metadata": {},
   "outputs": [
    {
     "data": {
      "text/plain": [
       "Index(['IP_Mean', 'IP_SD', 'EK_IP', 'Skewness_IP', 'Mean_DMSNR', 'SD_DMSNR',\n",
       "       'EK_DMSNR', 'Skewness_DMSNR', 'Target_Class'],\n",
       "      dtype='object')"
      ]
     },
     "execution_count": 230,
     "metadata": {},
     "output_type": "execute_result"
    }
   ],
   "source": [
    "#As we can see that column names are very large and I need to make them short\n",
    "\n",
    "dataset.columns = ['IP_Mean', 'IP_SD', 'EK_IP', 'Skewness_IP', 'Mean_DMSNR', 'SD_DMSNR', 'EK_DMSNR', 'Skewness_DMSNR', 'Target_Class']\n",
    "dataset.columns"
   ]
  },
  {
   "cell_type": "markdown",
   "id": "76bbbfc2",
   "metadata": {},
   "source": [
    "Now we can see our cols are very short and it looks cool"
   ]
  },
  {
   "cell_type": "code",
   "execution_count": 231,
   "id": "2b348762",
   "metadata": {},
   "outputs": [
    {
     "data": {
      "text/html": [
       "<div>\n",
       "<style scoped>\n",
       "    .dataframe tbody tr th:only-of-type {\n",
       "        vertical-align: middle;\n",
       "    }\n",
       "\n",
       "    .dataframe tbody tr th {\n",
       "        vertical-align: top;\n",
       "    }\n",
       "\n",
       "    .dataframe thead th {\n",
       "        text-align: right;\n",
       "    }\n",
       "</style>\n",
       "<table border=\"1\" class=\"dataframe\">\n",
       "  <thead>\n",
       "    <tr style=\"text-align: right;\">\n",
       "      <th></th>\n",
       "      <th>IP_Mean</th>\n",
       "      <th>IP_SD</th>\n",
       "      <th>EK_IP</th>\n",
       "      <th>Skewness_IP</th>\n",
       "      <th>Mean_DMSNR</th>\n",
       "      <th>SD_DMSNR</th>\n",
       "      <th>EK_DMSNR</th>\n",
       "      <th>Skewness_DMSNR</th>\n",
       "      <th>Target_Class</th>\n",
       "    </tr>\n",
       "  </thead>\n",
       "  <tbody>\n",
       "    <tr>\n",
       "      <th>0</th>\n",
       "      <td>140.562500</td>\n",
       "      <td>55.683782</td>\n",
       "      <td>-0.234571</td>\n",
       "      <td>-0.699648</td>\n",
       "      <td>3.199833</td>\n",
       "      <td>19.110426</td>\n",
       "      <td>7.975532</td>\n",
       "      <td>74.242225</td>\n",
       "      <td>0</td>\n",
       "    </tr>\n",
       "    <tr>\n",
       "      <th>1</th>\n",
       "      <td>102.507812</td>\n",
       "      <td>58.882430</td>\n",
       "      <td>0.465318</td>\n",
       "      <td>-0.515088</td>\n",
       "      <td>1.677258</td>\n",
       "      <td>14.860146</td>\n",
       "      <td>10.576487</td>\n",
       "      <td>127.393580</td>\n",
       "      <td>0</td>\n",
       "    </tr>\n",
       "    <tr>\n",
       "      <th>2</th>\n",
       "      <td>103.015625</td>\n",
       "      <td>39.341649</td>\n",
       "      <td>0.323328</td>\n",
       "      <td>1.051164</td>\n",
       "      <td>3.121237</td>\n",
       "      <td>21.744669</td>\n",
       "      <td>7.735822</td>\n",
       "      <td>63.171909</td>\n",
       "      <td>0</td>\n",
       "    </tr>\n",
       "    <tr>\n",
       "      <th>3</th>\n",
       "      <td>136.750000</td>\n",
       "      <td>57.178449</td>\n",
       "      <td>-0.068415</td>\n",
       "      <td>-0.636238</td>\n",
       "      <td>3.642977</td>\n",
       "      <td>20.959280</td>\n",
       "      <td>6.896499</td>\n",
       "      <td>53.593661</td>\n",
       "      <td>0</td>\n",
       "    </tr>\n",
       "    <tr>\n",
       "      <th>4</th>\n",
       "      <td>88.726562</td>\n",
       "      <td>40.672225</td>\n",
       "      <td>0.600866</td>\n",
       "      <td>1.123492</td>\n",
       "      <td>1.178930</td>\n",
       "      <td>11.468720</td>\n",
       "      <td>14.269573</td>\n",
       "      <td>252.567306</td>\n",
       "      <td>0</td>\n",
       "    </tr>\n",
       "  </tbody>\n",
       "</table>\n",
       "</div>"
      ],
      "text/plain": [
       "      IP_Mean      IP_SD     EK_IP  Skewness_IP  Mean_DMSNR   SD_DMSNR  \\\n",
       "0  140.562500  55.683782 -0.234571    -0.699648    3.199833  19.110426   \n",
       "1  102.507812  58.882430  0.465318    -0.515088    1.677258  14.860146   \n",
       "2  103.015625  39.341649  0.323328     1.051164    3.121237  21.744669   \n",
       "3  136.750000  57.178449 -0.068415    -0.636238    3.642977  20.959280   \n",
       "4   88.726562  40.672225  0.600866     1.123492    1.178930  11.468720   \n",
       "\n",
       "    EK_DMSNR  Skewness_DMSNR  Target_Class  \n",
       "0   7.975532       74.242225             0  \n",
       "1  10.576487      127.393580             0  \n",
       "2   7.735822       63.171909             0  \n",
       "3   6.896499       53.593661             0  \n",
       "4  14.269573      252.567306             0  "
      ]
     },
     "execution_count": 231,
     "metadata": {},
     "output_type": "execute_result"
    }
   ],
   "source": [
    "dataset.head()"
   ]
  },
  {
   "cell_type": "markdown",
   "id": "9c6e05df",
   "metadata": {},
   "source": [
    "we can see whole dataset clearly now"
   ]
  },
  {
   "cell_type": "code",
   "execution_count": 232,
   "id": "ff451c62",
   "metadata": {},
   "outputs": [
    {
     "data": {
      "text/plain": [
       "0    16259\n",
       "1     1639\n",
       "Name: Target_Class, dtype: int64"
      ]
     },
     "execution_count": 232,
     "metadata": {},
     "output_type": "execute_result"
    }
   ],
   "source": [
    "#lets now count number of 0 and 1 in our target variable\n",
    "\n",
    "dataset['Target_Class'].value_counts()"
   ]
  },
  {
   "cell_type": "markdown",
   "id": "df90e110",
   "metadata": {},
   "source": [
    "we can see that there are 16259 zeros and 1639 ones"
   ]
  },
  {
   "cell_type": "code",
   "execution_count": 233,
   "id": "24c1aaad",
   "metadata": {},
   "outputs": [
    {
     "data": {
      "text/plain": [
       "array([0, 1])"
      ]
     },
     "execution_count": 233,
     "metadata": {},
     "output_type": "execute_result"
    }
   ],
   "source": [
    "#lets use unique function of numpy to find the unique values in the target variables\n",
    "np.unique(dataset[\"Target_Class\"])"
   ]
  },
  {
   "cell_type": "code",
   "execution_count": 234,
   "id": "595431c6",
   "metadata": {},
   "outputs": [
    {
     "data": {
      "text/plain": [
       "(array([16259.,     0.,     0.,     0.,     0.,     0.,     0.,     0.,\n",
       "            0.,  1639.]),\n",
       " array([0. , 0.1, 0.2, 0.3, 0.4, 0.5, 0.6, 0.7, 0.8, 0.9, 1. ]),\n",
       " <BarContainer object of 10 artists>)"
      ]
     },
     "execution_count": 234,
     "metadata": {},
     "output_type": "execute_result"
    },
    {
     "data": {
      "image/png": "[encoded data removed]",
      "text/plain": [
       "<Figure size 432x288 with 1 Axes>"
      ]
     },
     "metadata": {
      "needs_background": "light"
     },
     "output_type": "display_data"
    }
   ],
   "source": [
    "#now lets visualize zeros and ones in a graph as visualization is always pretty and clear\n",
    "import matplotlib.pyplot as plt\n",
    "plt.hist(dataset['Target_Class'])"
   ]
  },
  {
   "cell_type": "markdown",
   "id": "b1d480d2",
   "metadata": {},
   "source": [
    "This visualization is done using matplotlib library"
   ]
  },
  {
   "cell_type": "code",
   "execution_count": 235,
   "id": "dc9c25b2",
   "metadata": {},
   "outputs": [
    {
     "data": {
      "image/png": "[encoded data removed]",
      "text/plain": [
       "<Figure size 432x288 with 1 Axes>"
      ]
     },
     "metadata": {
      "needs_background": "light"
     },
     "output_type": "display_data"
    },
    {
     "name": "stdout",
     "output_type": "stream",
     "text": [
      "0    16259\n",
      "1     1639\n",
      "Name: Target_Class, dtype: int64\n"
     ]
    }
   ],
   "source": [
    "#now visualize using seaborn library\n",
    "import seaborn as sb\n",
    "sb.countplot(x = 'Target_Class', data = dataset)\n",
    "plt.show()\n",
    "print(dataset['Target_Class'].value_counts())"
   ]
  },
  {
   "cell_type": "code",
   "execution_count": 236,
   "id": "9da5c440",
   "metadata": {},
   "outputs": [
    {
     "data": {
      "text/plain": [
       "0    0.908426\n",
       "1    0.091574\n",
       "Name: Target_Class, dtype: float64"
      ]
     },
     "execution_count": 236,
     "metadata": {},
     "output_type": "execute_result"
    }
   ],
   "source": [
    "#find percentage of counts manually\n",
    "per_counts = (dataset['Target_Class'].value_counts())/(len(dataset))\n",
    "\n",
    "per_counts"
   ]
  },
  {
   "cell_type": "code",
   "execution_count": 237,
   "id": "0f1483a3",
   "metadata": {},
   "outputs": [
    {
     "data": {
      "text/plain": [
       "0    90.842552\n",
       "1     9.157448\n",
       "Name: Target_Class, dtype: float64"
      ]
     },
     "execution_count": 237,
     "metadata": {},
     "output_type": "execute_result"
    }
   ],
   "source": [
    "#convert into percentage\n",
    "percentage = per_counts * 100\n",
    "percentage"
   ]
  },
  {
   "cell_type": "markdown",
   "id": "255919e2",
   "metadata": {},
   "source": [
    "So we have almost 91% zeros and 9% ones"
   ]
  },
  {
   "cell_type": "code",
   "execution_count": 238,
   "id": "b974ea08",
   "metadata": {},
   "outputs": [
    {
     "name": "stdout",
     "output_type": "stream",
     "text": [
      "<class 'pandas.core.frame.DataFrame'>\n",
      "RangeIndex: 17898 entries, 0 to 17897\n",
      "Data columns (total 9 columns):\n",
      " #   Column          Non-Null Count  Dtype  \n",
      "---  ------          --------------  -----  \n",
      " 0   IP_Mean         17898 non-null  float64\n",
      " 1   IP_SD           17898 non-null  float64\n",
      " 2   EK_IP           17898 non-null  float64\n",
      " 3   Skewness_IP     17898 non-null  float64\n",
      " 4   Mean_DMSNR      17898 non-null  float64\n",
      " 5   SD_DMSNR        17898 non-null  float64\n",
      " 6   EK_DMSNR        17898 non-null  float64\n",
      " 7   Skewness_DMSNR  17898 non-null  float64\n",
      " 8   Target_Class    17898 non-null  int64  \n",
      "dtypes: float64(8), int64(1)\n",
      "memory usage: 1.2 MB\n"
     ]
    }
   ],
   "source": [
    "#now find info about the dataset\n",
    "dataset.info()"
   ]
  },
  {
   "cell_type": "code",
   "execution_count": 239,
   "id": "a3201483",
   "metadata": {},
   "outputs": [
    {
     "data": {
      "text/plain": [
       "IP_Mean           0\n",
       "IP_SD             0\n",
       "EK_IP             0\n",
       "Skewness_IP       0\n",
       "Mean_DMSNR        0\n",
       "SD_DMSNR          0\n",
       "EK_DMSNR          0\n",
       "Skewness_DMSNR    0\n",
       "Target_Class      0\n",
       "dtype: int64"
      ]
     },
     "execution_count": 239,
     "metadata": {},
     "output_type": "execute_result"
    }
   ],
   "source": [
    "#as we can see there are no null values, still we want to see are there any null values\n",
    "dataset.isnull().sum()"
   ]
  },
  {
   "cell_type": "markdown",
   "id": "9f3ffa78",
   "metadata": {},
   "source": [
    "since we do not have any null values and we can see that there are 8 continuous variables and 1 is discrete"
   ]
  },
  {
   "cell_type": "code",
   "execution_count": 240,
   "id": "37d9a4b3",
   "metadata": {},
   "outputs": [
    {
     "data": {
      "text/html": [
       "<div>\n",
       "<style scoped>\n",
       "    .dataframe tbody tr th:only-of-type {\n",
       "        vertical-align: middle;\n",
       "    }\n",
       "\n",
       "    .dataframe tbody tr th {\n",
       "        vertical-align: top;\n",
       "    }\n",
       "\n",
       "    .dataframe thead th {\n",
       "        text-align: right;\n",
       "    }\n",
       "</style>\n",
       "<table border=\"1\" class=\"dataframe\">\n",
       "  <thead>\n",
       "    <tr style=\"text-align: right;\">\n",
       "      <th></th>\n",
       "      <th>IP_Mean</th>\n",
       "      <th>IP_SD</th>\n",
       "      <th>EK_IP</th>\n",
       "      <th>Skewness_IP</th>\n",
       "      <th>Mean_DMSNR</th>\n",
       "      <th>SD_DMSNR</th>\n",
       "      <th>EK_DMSNR</th>\n",
       "      <th>Skewness_DMSNR</th>\n",
       "      <th>Target_Class</th>\n",
       "    </tr>\n",
       "  </thead>\n",
       "  <tbody>\n",
       "    <tr>\n",
       "      <th>count</th>\n",
       "      <td>17898.000</td>\n",
       "      <td>17898.000</td>\n",
       "      <td>17898.000</td>\n",
       "      <td>17898.000</td>\n",
       "      <td>17898.000</td>\n",
       "      <td>17898.000</td>\n",
       "      <td>17898.000</td>\n",
       "      <td>17898.000</td>\n",
       "      <td>17898.000</td>\n",
       "    </tr>\n",
       "    <tr>\n",
       "      <th>mean</th>\n",
       "      <td>111.080</td>\n",
       "      <td>46.550</td>\n",
       "      <td>0.478</td>\n",
       "      <td>1.770</td>\n",
       "      <td>12.614</td>\n",
       "      <td>26.327</td>\n",
       "      <td>8.304</td>\n",
       "      <td>104.858</td>\n",
       "      <td>0.092</td>\n",
       "    </tr>\n",
       "    <tr>\n",
       "      <th>std</th>\n",
       "      <td>25.653</td>\n",
       "      <td>6.843</td>\n",
       "      <td>1.064</td>\n",
       "      <td>6.168</td>\n",
       "      <td>29.473</td>\n",
       "      <td>19.471</td>\n",
       "      <td>4.506</td>\n",
       "      <td>106.515</td>\n",
       "      <td>0.288</td>\n",
       "    </tr>\n",
       "    <tr>\n",
       "      <th>min</th>\n",
       "      <td>5.812</td>\n",
       "      <td>24.772</td>\n",
       "      <td>-1.876</td>\n",
       "      <td>-1.792</td>\n",
       "      <td>0.213</td>\n",
       "      <td>7.370</td>\n",
       "      <td>-3.139</td>\n",
       "      <td>-1.977</td>\n",
       "      <td>0.000</td>\n",
       "    </tr>\n",
       "    <tr>\n",
       "      <th>25%</th>\n",
       "      <td>100.930</td>\n",
       "      <td>42.376</td>\n",
       "      <td>0.027</td>\n",
       "      <td>-0.189</td>\n",
       "      <td>1.923</td>\n",
       "      <td>14.437</td>\n",
       "      <td>5.782</td>\n",
       "      <td>34.961</td>\n",
       "      <td>0.000</td>\n",
       "    </tr>\n",
       "    <tr>\n",
       "      <th>50%</th>\n",
       "      <td>115.078</td>\n",
       "      <td>46.947</td>\n",
       "      <td>0.223</td>\n",
       "      <td>0.199</td>\n",
       "      <td>2.802</td>\n",
       "      <td>18.461</td>\n",
       "      <td>8.434</td>\n",
       "      <td>83.065</td>\n",
       "      <td>0.000</td>\n",
       "    </tr>\n",
       "    <tr>\n",
       "      <th>75%</th>\n",
       "      <td>127.086</td>\n",
       "      <td>51.023</td>\n",
       "      <td>0.473</td>\n",
       "      <td>0.928</td>\n",
       "      <td>5.464</td>\n",
       "      <td>28.428</td>\n",
       "      <td>10.703</td>\n",
       "      <td>139.309</td>\n",
       "      <td>0.000</td>\n",
       "    </tr>\n",
       "    <tr>\n",
       "      <th>max</th>\n",
       "      <td>192.617</td>\n",
       "      <td>98.779</td>\n",
       "      <td>8.070</td>\n",
       "      <td>68.102</td>\n",
       "      <td>223.392</td>\n",
       "      <td>110.642</td>\n",
       "      <td>34.540</td>\n",
       "      <td>1191.001</td>\n",
       "      <td>1.000</td>\n",
       "    </tr>\n",
       "  </tbody>\n",
       "</table>\n",
       "</div>"
      ],
      "text/plain": [
       "         IP_Mean      IP_SD      EK_IP  Skewness_IP  Mean_DMSNR   SD_DMSNR  \\\n",
       "count  17898.000  17898.000  17898.000    17898.000   17898.000  17898.000   \n",
       "mean     111.080     46.550      0.478        1.770      12.614     26.327   \n",
       "std       25.653      6.843      1.064        6.168      29.473     19.471   \n",
       "min        5.812     24.772     -1.876       -1.792       0.213      7.370   \n",
       "25%      100.930     42.376      0.027       -0.189       1.923     14.437   \n",
       "50%      115.078     46.947      0.223        0.199       2.802     18.461   \n",
       "75%      127.086     51.023      0.473        0.928       5.464     28.428   \n",
       "max      192.617     98.779      8.070       68.102     223.392    110.642   \n",
       "\n",
       "        EK_DMSNR  Skewness_DMSNR  Target_Class  \n",
       "count  17898.000       17898.000     17898.000  \n",
       "mean       8.304         104.858         0.092  \n",
       "std        4.506         106.515         0.288  \n",
       "min       -3.139          -1.977         0.000  \n",
       "25%        5.782          34.961         0.000  \n",
       "50%        8.434          83.065         0.000  \n",
       "75%       10.703         139.309         0.000  \n",
       "max       34.540        1191.001         1.000  "
      ]
     },
     "execution_count": 240,
     "metadata": {},
     "output_type": "execute_result"
    }
   ],
   "source": [
    "#viewing summary statistics in numerical variables\n",
    "\n",
    "round(dataset.describe(), 3)"
   ]
  },
  {
   "cell_type": "code",
   "execution_count": 241,
   "id": "19b7a815",
   "metadata": {},
   "outputs": [
    {
     "data": {
      "text/plain": [
       "Text(0, 0.5, 'Skewness_DMSNR')"
      ]
     },
     "execution_count": 241,
     "metadata": {},
     "output_type": "execute_result"
    },
    {
     "data": {
      "image/png": "[encoded data removed]",
      "text/plain": [
       "<Figure size 1728x1440 with 8 Axes>"
      ]
     },
     "metadata": {
      "needs_background": "light"
     },
     "output_type": "display_data"
    }
   ],
   "source": [
    "#Now lets plot boxplots to visualize any outliers\n",
    "\n",
    "plt.figure(figsize=(24, 20))\n",
    "\n",
    "plt.subplot(4, 2, 1)\n",
    "fig = dataset.boxplot(column='IP_Mean')\n",
    "fig.set_title('Boxplot Showing IP_Mean')\n",
    "#fig.set_ylabel('IP_Mean')\n",
    "\n",
    "plt.subplot(4, 2, 2)\n",
    "fig = dataset.boxplot(column='IP_SD')\n",
    "fig.set_title('Boxplot Showing IP_SD')\n",
    "fig.set_ylabel('IP_SD')\n",
    "\n",
    "plt.subplot(4, 2, 3)\n",
    "fig = dataset.boxplot(column = 'EK_IP')\n",
    "fig.set_title('Boxplot showing EK_IP')\n",
    "fig.set_ylabel('EK_IP')\n",
    "\n",
    "plt.subplot(4, 2, 4)\n",
    "fig = dataset.boxplot(column='Skewness_IP')\n",
    "fig.set_title('Boxplot Showing Skewness_IP')\n",
    "fig.set_ylabel('Skewness_IP')\n",
    "\n",
    "plt.subplot(4, 2, 5)\n",
    "fig = dataset.boxplot(column = 'Mean_DMSNR')\n",
    "fig.set_title('Boxplot Showing Mean_DMSNR')\n",
    "fig.set_ylabel('Mean_DMSNR')\n",
    "\n",
    "plt.subplot(4, 2, 6)\n",
    "fig = dataset.boxplot(column='SD_DMSNR')\n",
    "fig.set_title('Boxplot Showing EK_DMSNR')\n",
    "fig.set_ylabel('SD_DMSNR')\n",
    "\n",
    "plt.subplot(4, 2, 7)\n",
    "fig = dataset.boxplot(column='EK_DMSNR')\n",
    "fig.set_title('Boxplot Showing EK_DMSNR')\n",
    "fig.set_ylabel('EK_DMSNR')\n",
    "\n",
    "plt.subplot(4, 2, 8)\n",
    "fig = dataset.boxplot(column = 'Skewness_DMSNR')\n",
    "fig.set_title('Boxplot Showing Skewness_DMSNR')\n",
    "fig.set_ylabel('Skewness_DMSNR')\n"
   ]
  },
  {
   "cell_type": "markdown",
   "id": "51045fd8",
   "metadata": {},
   "source": [
    "https://www.kaggle.com/code/s1700270/lecture-svm-classifier-tutorial-pulsar-stars/notebook"
   ]
  },
  {
   "cell_type": "code",
   "execution_count": 242,
   "id": "9bf51ff0",
   "metadata": {},
   "outputs": [
    {
     "data": {
      "text/plain": [
       "Text(0, 0.5, 'Skewness_DMSNR')"
      ]
     },
     "execution_count": 242,
     "metadata": {},
     "output_type": "execute_result"
    },
    {
     "data": {
      "image/png": "[encoded data removed]",
      "text/plain": [
       "<Figure size 1728x1440 with 8 Axes>"
      ]
     },
     "metadata": {
      "needs_background": "light"
     },
     "output_type": "display_data"
    }
   ],
   "source": [
    "#now find the distributiion to know either the data is skewed or normal\n",
    "\n",
    "plt.figure(figsize=(24, 20))\n",
    "\n",
    "plt.subplot(4, 2, 1)\n",
    "fig = dataset['IP_Mean'].hist(bins=60)\n",
    "fig.set_title(\"Histogram showing distribution of datafram\")\n",
    "fig.set_ylabel('IP_Mean')\n",
    "\n",
    "plt.subplot(4, 2, 2)\n",
    "fig = dataset['IP_SD'].hist(bins=60)\n",
    "fig.set_title(\"Histogram showing distribution of datafram\")\n",
    "fig.set_ylabel('IP_SD')\n",
    "\n",
    "plt.subplot(4, 2, 3)\n",
    "fig = dataset['EK_IP'].hist(bins=60)\n",
    "fig.set_title('Histogram showing distribution of datafram')\n",
    "fig.set_ylabel('EK_IP')\n",
    "\n",
    "plt.subplot(4, 2, 4)\n",
    "fig = dataset['Skewness_IP'].hist(bins=60)\n",
    "fig.set_title('Histogram showing distribution of datafram')\n",
    "fig.set_ylabel('Skewness_IP')\n",
    "\n",
    "plt.subplot(4, 2, 5)\n",
    "fig = dataset['Mean_DMSNR'].hist(bins=60)\n",
    "fig.set_title('Histogram showing distribution of datafram')\n",
    "fig.set_ylabel('Mean_DMSNR')\n",
    "\n",
    "plt.subplot(4, 2, 6)\n",
    "fig = dataset['SD_DMSNR'].hist(bins=60)\n",
    "fig.set_title('Histogram showing distribution of datafram')\n",
    "fig.set_ylabel('SD_DMSNR')\n",
    "\n",
    "plt.subplot(4, 2, 7)\n",
    "fig = dataset['EK_DMSNR'].hist(bins=60)\n",
    "fig.set_title('Histogram showing distribution of datafram')\n",
    "fig.set_ylabel('EK_DMSNR')\n",
    "\n",
    "plt.subplot(4, 2, 8)\n",
    "fig = dataset['Skewness_DMSNR'].hist(bins=60)\n",
    "fig.set_title('Histogram showing distribution of datafram')\n",
    "fig.set_ylabel('Skewness_DMSNR')\n"
   ]
  },
  {
   "cell_type": "markdown",
   "id": "49c2cad5",
   "metadata": {},
   "source": [
    "We can see that there is skewness in all the distributions"
   ]
  },
  {
   "cell_type": "markdown",
   "id": "b55f1347",
   "metadata": {},
   "source": [
    "# Distribute into dependent and independent variables and also split into training and testing"
   ]
  },
  {
   "cell_type": "code",
   "execution_count": 243,
   "id": "7010e0c2",
   "metadata": {},
   "outputs": [],
   "source": [
    "#distribute data into dependent and independent variables\n",
    "\n",
    "x = dataset.iloc[:, :-1]\n",
    "y = dataset.iloc[:, -1]"
   ]
  },
  {
   "cell_type": "code",
   "execution_count": 244,
   "id": "b04da9bc",
   "metadata": {},
   "outputs": [
    {
     "data": {
      "text/plain": [
       "(          IP_Mean      IP_SD     EK_IP  Skewness_IP  Mean_DMSNR   SD_DMSNR  \\\n",
       " 3055   120.640625  47.842962  0.257963    -0.090620    8.048495  35.198234   \n",
       " 10138  116.554688  48.702992  0.197625     0.232600    3.041806  16.610678   \n",
       " 3600    66.773438  58.206289  1.838734     2.414939   73.643813  80.673494   \n",
       " 16245   93.312500  34.314663  0.658339     2.928829    3.780936  22.213667   \n",
       " 6079    99.343750  48.635513  0.470525     0.244099    1.701505  13.167891   \n",
       " \n",
       "         EK_DMSNR  Skewness_DMSNR  \n",
       " 3055    4.819784       23.528383  \n",
       " 10138   8.166185       84.846709  \n",
       " 3600    0.649639       -0.918078  \n",
       " 16245   7.446869       61.135290  \n",
       " 6079   11.177091      156.605608  ,\n",
       "           IP_Mean      IP_SD     EK_IP  Skewness_IP  Mean_DMSNR   SD_DMSNR  \\\n",
       " 5965   102.289062  45.759076  0.231698     0.227156    2.270067  14.343020   \n",
       " 17707  120.093750  51.765311  0.152885    -0.395776    3.333612  19.674268   \n",
       " 17795  108.820312  58.015951  0.396479    -0.473085    2.873746  19.469424   \n",
       " 12444  137.085938  51.359491  0.004316    -0.139897    1.691472  11.533184   \n",
       " 15566   93.140625  43.132017  0.543589     0.940103    0.820234  10.193051   \n",
       " \n",
       "         EK_DMSNR  Skewness_DMSNR  \n",
       " 5965    9.500368      117.057724  \n",
       " 17707   7.962004       73.625063  \n",
       " 17795   9.301734       94.655637  \n",
       " 12444  12.523379      219.538878  \n",
       " 15566  17.569104      369.841602  )"
      ]
     },
     "execution_count": 244,
     "metadata": {},
     "output_type": "execute_result"
    }
   ],
   "source": [
    "#split into training and testing\n",
    "from sklearn.model_selection import train_test_split \n",
    "x_train, x_test, y_train, y_test = train_test_split(x, y, test_size=.2, random_state=0)\n",
    "x_train.head(), x_test.head()"
   ]
  },
  {
   "cell_type": "code",
   "execution_count": 245,
   "id": "3d588cda",
   "metadata": {},
   "outputs": [
    {
     "data": {
      "text/html": [
       "<div>\n",
       "<style scoped>\n",
       "    .dataframe tbody tr th:only-of-type {\n",
       "        vertical-align: middle;\n",
       "    }\n",
       "\n",
       "    .dataframe tbody tr th {\n",
       "        vertical-align: top;\n",
       "    }\n",
       "\n",
       "    .dataframe thead th {\n",
       "        text-align: right;\n",
       "    }\n",
       "</style>\n",
       "<table border=\"1\" class=\"dataframe\">\n",
       "  <thead>\n",
       "    <tr style=\"text-align: right;\">\n",
       "      <th></th>\n",
       "      <th>IP_Mean</th>\n",
       "      <th>IP_SD</th>\n",
       "      <th>EK_IP</th>\n",
       "      <th>Skewness_IP</th>\n",
       "      <th>Mean_DMSNR</th>\n",
       "      <th>SD_DMSNR</th>\n",
       "      <th>EK_DMSNR</th>\n",
       "      <th>Skewness_DMSNR</th>\n",
       "    </tr>\n",
       "  </thead>\n",
       "  <tbody>\n",
       "    <tr>\n",
       "      <th>count</th>\n",
       "      <td>14318.000000</td>\n",
       "      <td>14318.000000</td>\n",
       "      <td>14318.000000</td>\n",
       "      <td>14318.000000</td>\n",
       "      <td>14318.000000</td>\n",
       "      <td>14318.000000</td>\n",
       "      <td>14318.000000</td>\n",
       "      <td>14318.000000</td>\n",
       "    </tr>\n",
       "    <tr>\n",
       "      <th>mean</th>\n",
       "      <td>110.858759</td>\n",
       "      <td>46.565693</td>\n",
       "      <td>0.488399</td>\n",
       "      <td>1.818893</td>\n",
       "      <td>12.912853</td>\n",
       "      <td>26.460878</td>\n",
       "      <td>8.273167</td>\n",
       "      <td>104.431502</td>\n",
       "    </tr>\n",
       "    <tr>\n",
       "      <th>std</th>\n",
       "      <td>25.940464</td>\n",
       "      <td>6.851364</td>\n",
       "      <td>1.081679</td>\n",
       "      <td>6.286338</td>\n",
       "      <td>29.960088</td>\n",
       "      <td>19.613404</td>\n",
       "      <td>4.514452</td>\n",
       "      <td>106.050504</td>\n",
       "    </tr>\n",
       "    <tr>\n",
       "      <th>min</th>\n",
       "      <td>6.179688</td>\n",
       "      <td>24.772042</td>\n",
       "      <td>-1.876011</td>\n",
       "      <td>-1.791886</td>\n",
       "      <td>0.213211</td>\n",
       "      <td>7.370432</td>\n",
       "      <td>-2.812353</td>\n",
       "      <td>-1.976976</td>\n",
       "    </tr>\n",
       "    <tr>\n",
       "      <th>25%</th>\n",
       "      <td>100.751953</td>\n",
       "      <td>42.407421</td>\n",
       "      <td>0.028028</td>\n",
       "      <td>-0.185156</td>\n",
       "      <td>1.933110</td>\n",
       "      <td>14.447192</td>\n",
       "      <td>5.726638</td>\n",
       "      <td>34.148027</td>\n",
       "    </tr>\n",
       "    <tr>\n",
       "      <th>50%</th>\n",
       "      <td>114.976562</td>\n",
       "      <td>46.966254</td>\n",
       "      <td>0.223053</td>\n",
       "      <td>0.198242</td>\n",
       "      <td>2.809783</td>\n",
       "      <td>18.483441</td>\n",
       "      <td>8.416290</td>\n",
       "      <td>82.595021</td>\n",
       "    </tr>\n",
       "    <tr>\n",
       "      <th>75%</th>\n",
       "      <td>127.115234</td>\n",
       "      <td>51.019621</td>\n",
       "      <td>0.477569</td>\n",
       "      <td>0.926502</td>\n",
       "      <td>5.531773</td>\n",
       "      <td>28.576960</td>\n",
       "      <td>10.694074</td>\n",
       "      <td>138.962644</td>\n",
       "    </tr>\n",
       "    <tr>\n",
       "      <th>max</th>\n",
       "      <td>192.617188</td>\n",
       "      <td>98.778911</td>\n",
       "      <td>8.069522</td>\n",
       "      <td>68.101622</td>\n",
       "      <td>223.392141</td>\n",
       "      <td>110.642211</td>\n",
       "      <td>34.539844</td>\n",
       "      <td>1191.000837</td>\n",
       "    </tr>\n",
       "  </tbody>\n",
       "</table>\n",
       "</div>"
      ],
      "text/plain": [
       "            IP_Mean         IP_SD         EK_IP   Skewness_IP    Mean_DMSNR  \\\n",
       "count  14318.000000  14318.000000  14318.000000  14318.000000  14318.000000   \n",
       "mean     110.858759     46.565693      0.488399      1.818893     12.912853   \n",
       "std       25.940464      6.851364      1.081679      6.286338     29.960088   \n",
       "min        6.179688     24.772042     -1.876011     -1.791886      0.213211   \n",
       "25%      100.751953     42.407421      0.028028     -0.185156      1.933110   \n",
       "50%      114.976562     46.966254      0.223053      0.198242      2.809783   \n",
       "75%      127.115234     51.019621      0.477569      0.926502      5.531773   \n",
       "max      192.617188     98.778911      8.069522     68.101622    223.392141   \n",
       "\n",
       "           SD_DMSNR      EK_DMSNR  Skewness_DMSNR  \n",
       "count  14318.000000  14318.000000    14318.000000  \n",
       "mean      26.460878      8.273167      104.431502  \n",
       "std       19.613404      4.514452      106.050504  \n",
       "min        7.370432     -2.812353       -1.976976  \n",
       "25%       14.447192      5.726638       34.148027  \n",
       "50%       18.483441      8.416290       82.595021  \n",
       "75%       28.576960     10.694074      138.962644  \n",
       "max      110.642211     34.539844     1191.000837  "
      ]
     },
     "execution_count": 245,
     "metadata": {},
     "output_type": "execute_result"
    }
   ],
   "source": [
    "x_train.describe()"
   ]
  },
  {
   "cell_type": "markdown",
   "id": "ae1658eb",
   "metadata": {},
   "source": [
    "# Feature Scalling "
   ]
  },
  {
   "cell_type": "code",
   "execution_count": 246,
   "id": "da1b632a",
   "metadata": {},
   "outputs": [],
   "source": [
    "#separate columns and save\n",
    "cols = x_train.columns"
   ]
  },
  {
   "cell_type": "code",
   "execution_count": 247,
   "id": "3cefbb3c",
   "metadata": {},
   "outputs": [],
   "source": [
    "#now lets scale using standard scaler\n",
    "from sklearn.preprocessing import StandardScaler\n",
    "\n",
    "scaler = StandardScaler()\n",
    "x_train = scaler.fit_transform(x_train)\n",
    "\n",
    "#now transform x_test as well\n",
    "x_test = scaler.transform(x_test)\n"
   ]
  },
  {
   "cell_type": "code",
   "execution_count": 248,
   "id": "5c870324",
   "metadata": {},
   "outputs": [
    {
     "data": {
      "text/plain": [
       "(    IP_Mean     IP_SD     EK_IP Skewness_IP Mean_DMSNR  SD_DMSNR  EK_DMSNR  \\\n",
       " 0  0.377102  0.186432 -0.213043   -0.303767  -0.162367  0.445494 -0.764988   \n",
       " 1  0.219585  0.311963 -0.268826   -0.252348  -0.329485 -0.502235 -0.023698   \n",
       " 2 -1.699540  1.699078  1.248413    0.094819   2.027133  2.764156 -1.688753   \n",
       " 3 -0.676429 -1.788178  0.157113    0.176569  -0.304813 -0.216554 -0.183040   \n",
       " 4 -0.443917  0.302114 -0.016524   -0.250519  -0.374223 -0.677774  0.643273   \n",
       " \n",
       "   Skewness_DMSNR  \n",
       " 0      -0.762900  \n",
       " 1      -0.184681  \n",
       " 2      -0.993425  \n",
       " 3      -0.408275  \n",
       " 4       0.491991  ,\n",
       "     IP_Mean     IP_SD     EK_IP Skewness_IP Mean_DMSNR  SD_DMSNR  EK_DMSNR  \\\n",
       " 0 -0.330372 -0.117735 -0.237325   -0.253214  -0.355245 -0.617857  0.271848   \n",
       " 1  0.356020  0.758944 -0.310189   -0.352311  -0.319745 -0.346031 -0.068928   \n",
       " 2 -0.078584  1.671296 -0.084982   -0.364609  -0.335094 -0.356476  0.227847   \n",
       " 3  1.011088  0.699710 -0.447545   -0.311606  -0.374557 -0.761123  0.941501   \n",
       " 4 -0.683055 -0.501184  0.051024   -0.139798  -0.403638 -0.829453  2.059223   \n",
       " \n",
       "   Skewness_DMSNR  \n",
       " 0       0.119063  \n",
       " 1      -0.290499  \n",
       " 2      -0.092184  \n",
       " 3       1.085439  \n",
       " 4       2.502764  )"
      ]
     },
     "execution_count": 248,
     "metadata": {},
     "output_type": "execute_result"
    }
   ],
   "source": [
    "#now add datafrom specifically columns\n",
    "\n",
    "x_train = pd.DataFrame(x_train, columns =[cols])\n",
    "x_test = pd.DataFrame(x_test, columns = [cols])\n",
    "x_train.head(), x_test.head()"
   ]
  },
  {
   "cell_type": "code",
   "execution_count": 249,
   "id": "8f50dd21",
   "metadata": {},
   "outputs": [
    {
     "data": {
      "text/html": [
       "<div>\n",
       "<style scoped>\n",
       "    .dataframe tbody tr th:only-of-type {\n",
       "        vertical-align: middle;\n",
       "    }\n",
       "\n",
       "    .dataframe tbody tr th {\n",
       "        vertical-align: top;\n",
       "    }\n",
       "\n",
       "    .dataframe thead tr th {\n",
       "        text-align: left;\n",
       "    }\n",
       "</style>\n",
       "<table border=\"1\" class=\"dataframe\">\n",
       "  <thead>\n",
       "    <tr>\n",
       "      <th></th>\n",
       "      <th>IP_Mean</th>\n",
       "      <th>IP_SD</th>\n",
       "      <th>EK_IP</th>\n",
       "      <th>Skewness_IP</th>\n",
       "      <th>Mean_DMSNR</th>\n",
       "      <th>SD_DMSNR</th>\n",
       "      <th>EK_DMSNR</th>\n",
       "      <th>Skewness_DMSNR</th>\n",
       "    </tr>\n",
       "  </thead>\n",
       "  <tbody>\n",
       "    <tr>\n",
       "      <th>count</th>\n",
       "      <td>1.431800e+04</td>\n",
       "      <td>1.431800e+04</td>\n",
       "      <td>1.431800e+04</td>\n",
       "      <td>1.431800e+04</td>\n",
       "      <td>1.431800e+04</td>\n",
       "      <td>1.431800e+04</td>\n",
       "      <td>1.431800e+04</td>\n",
       "      <td>1.431800e+04</td>\n",
       "    </tr>\n",
       "    <tr>\n",
       "      <th>mean</th>\n",
       "      <td>1.908113e-16</td>\n",
       "      <td>-6.550610e-16</td>\n",
       "      <td>1.042143e-17</td>\n",
       "      <td>3.870815e-17</td>\n",
       "      <td>-8.734147e-17</td>\n",
       "      <td>-1.617802e-16</td>\n",
       "      <td>-1.513588e-17</td>\n",
       "      <td>1.122785e-16</td>\n",
       "    </tr>\n",
       "    <tr>\n",
       "      <th>std</th>\n",
       "      <td>1.000035e+00</td>\n",
       "      <td>1.000035e+00</td>\n",
       "      <td>1.000035e+00</td>\n",
       "      <td>1.000035e+00</td>\n",
       "      <td>1.000035e+00</td>\n",
       "      <td>1.000035e+00</td>\n",
       "      <td>1.000035e+00</td>\n",
       "      <td>1.000035e+00</td>\n",
       "    </tr>\n",
       "    <tr>\n",
       "      <th>min</th>\n",
       "      <td>-4.035499e+00</td>\n",
       "      <td>-3.181033e+00</td>\n",
       "      <td>-2.185946e+00</td>\n",
       "      <td>-5.744051e-01</td>\n",
       "      <td>-4.239001e-01</td>\n",
       "      <td>-9.733707e-01</td>\n",
       "      <td>-2.455649e+00</td>\n",
       "      <td>-1.003411e+00</td>\n",
       "    </tr>\n",
       "    <tr>\n",
       "      <th>25%</th>\n",
       "      <td>-3.896291e-01</td>\n",
       "      <td>-6.069473e-01</td>\n",
       "      <td>-4.256221e-01</td>\n",
       "      <td>-3.188054e-01</td>\n",
       "      <td>-3.664918e-01</td>\n",
       "      <td>-6.125457e-01</td>\n",
       "      <td>-5.641035e-01</td>\n",
       "      <td>-6.627590e-01</td>\n",
       "    </tr>\n",
       "    <tr>\n",
       "      <th>50%</th>\n",
       "      <td>1.587461e-01</td>\n",
       "      <td>5.846646e-02</td>\n",
       "      <td>-2.453172e-01</td>\n",
       "      <td>-2.578142e-01</td>\n",
       "      <td>-3.372294e-01</td>\n",
       "      <td>-4.067482e-01</td>\n",
       "      <td>3.170446e-02</td>\n",
       "      <td>-2.059136e-01</td>\n",
       "    </tr>\n",
       "    <tr>\n",
       "      <th>75%</th>\n",
       "      <td>6.267059e-01</td>\n",
       "      <td>6.501017e-01</td>\n",
       "      <td>-1.001238e-02</td>\n",
       "      <td>-1.419621e-01</td>\n",
       "      <td>-2.463724e-01</td>\n",
       "      <td>1.078934e-01</td>\n",
       "      <td>5.362759e-01</td>\n",
       "      <td>3.256217e-01</td>\n",
       "    </tr>\n",
       "    <tr>\n",
       "      <th>max</th>\n",
       "      <td>3.151882e+00</td>\n",
       "      <td>7.621116e+00</td>\n",
       "      <td>7.008906e+00</td>\n",
       "      <td>1.054430e+01</td>\n",
       "      <td>7.025568e+00</td>\n",
       "      <td>4.292181e+00</td>\n",
       "      <td>5.818557e+00</td>\n",
       "      <td>1.024613e+01</td>\n",
       "    </tr>\n",
       "  </tbody>\n",
       "</table>\n",
       "</div>"
      ],
      "text/plain": [
       "            IP_Mean         IP_SD         EK_IP   Skewness_IP    Mean_DMSNR  \\\n",
       "count  1.431800e+04  1.431800e+04  1.431800e+04  1.431800e+04  1.431800e+04   \n",
       "mean   1.908113e-16 -6.550610e-16  1.042143e-17  3.870815e-17 -8.734147e-17   \n",
       "std    1.000035e+00  1.000035e+00  1.000035e+00  1.000035e+00  1.000035e+00   \n",
       "min   -4.035499e+00 -3.181033e+00 -2.185946e+00 -5.744051e-01 -4.239001e-01   \n",
       "25%   -3.896291e-01 -6.069473e-01 -4.256221e-01 -3.188054e-01 -3.664918e-01   \n",
       "50%    1.587461e-01  5.846646e-02 -2.453172e-01 -2.578142e-01 -3.372294e-01   \n",
       "75%    6.267059e-01  6.501017e-01 -1.001238e-02 -1.419621e-01 -2.463724e-01   \n",
       "max    3.151882e+00  7.621116e+00  7.008906e+00  1.054430e+01  7.025568e+00   \n",
       "\n",
       "           SD_DMSNR      EK_DMSNR Skewness_DMSNR  \n",
       "count  1.431800e+04  1.431800e+04   1.431800e+04  \n",
       "mean  -1.617802e-16 -1.513588e-17   1.122785e-16  \n",
       "std    1.000035e+00  1.000035e+00   1.000035e+00  \n",
       "min   -9.733707e-01 -2.455649e+00  -1.003411e+00  \n",
       "25%   -6.125457e-01 -5.641035e-01  -6.627590e-01  \n",
       "50%   -4.067482e-01  3.170446e-02  -2.059136e-01  \n",
       "75%    1.078934e-01  5.362759e-01   3.256217e-01  \n",
       "max    4.292181e+00  5.818557e+00   1.024613e+01  "
      ]
     },
     "execution_count": 249,
     "metadata": {},
     "output_type": "execute_result"
    }
   ],
   "source": [
    "x_train.describe()"
   ]
  },
  {
   "cell_type": "markdown",
   "id": "df4c636c",
   "metadata": {},
   "source": [
    "Hence we can see the values are decreased"
   ]
  },
  {
   "cell_type": "markdown",
   "id": "f0e413f0",
   "metadata": {},
   "source": [
    "\n",
    "# SVM with Default parameters"
   ]
  },
  {
   "cell_type": "code",
   "execution_count": 250,
   "id": "abf13ead",
   "metadata": {},
   "outputs": [
    {
     "name": "stderr",
     "output_type": "stream",
     "text": [
      "/home/uca/.local/lib/python3.8/site-packages/sklearn/utils/validation.py:1675: FutureWarning: Feature names only support names that are all strings. Got feature names with dtypes: ['tuple']. An error will be raised in 1.2.\n",
      "  warnings.warn(\n",
      "/home/uca/.local/lib/python3.8/site-packages/sklearn/utils/validation.py:1675: FutureWarning: Feature names only support names that are all strings. Got feature names with dtypes: ['tuple']. An error will be raised in 1.2.\n",
      "  warnings.warn(\n"
     ]
    }
   ],
   "source": [
    "#import SVM classifier\n",
    "from sklearn.svm import SVC\n",
    "classifier = SVC()\n",
    "classifier.fit(x_train, y_train)\n",
    "y_pred = classifier.predict(x_test)"
   ]
  },
  {
   "cell_type": "code",
   "execution_count": 251,
   "id": "09e42e9f",
   "metadata": {},
   "outputs": [
    {
     "data": {
      "text/plain": [
       "0.9826815642458101"
      ]
     },
     "execution_count": 251,
     "metadata": {},
     "output_type": "execute_result"
    }
   ],
   "source": [
    "#now find accuracy score\n",
    "from sklearn.metrics import accuracy_score\n",
    "accuracy_score(y_test, y_pred)"
   ]
  },
  {
   "cell_type": "code",
   "execution_count": 252,
   "id": "86088625",
   "metadata": {},
   "outputs": [
    {
     "name": "stderr",
     "output_type": "stream",
     "text": [
      "/home/uca/.local/lib/python3.8/site-packages/sklearn/utils/validation.py:1675: FutureWarning: Feature names only support names that are all strings. Got feature names with dtypes: ['tuple']. An error will be raised in 1.2.\n",
      "  warnings.warn(\n",
      "/home/uca/.local/lib/python3.8/site-packages/sklearn/utils/validation.py:1675: FutureWarning: Feature names only support names that are all strings. Got feature names with dtypes: ['tuple']. An error will be raised in 1.2.\n",
      "  warnings.warn(\n"
     ]
    }
   ],
   "source": [
    "#now lets again train model using rbf and c\n",
    "svc = SVC(C=100)\n",
    "svc.fit(x_train, y_train)\n",
    "pred = svc.predict(x_test)"
   ]
  },
  {
   "cell_type": "code",
   "execution_count": 253,
   "id": "c2a0821e",
   "metadata": {},
   "outputs": [
    {
     "data": {
      "text/plain": [
       "0.9832402234636871"
      ]
     },
     "execution_count": 253,
     "metadata": {},
     "output_type": "execute_result"
    }
   ],
   "source": [
    "#again find accuracy score\n",
    "accuracy_score(y_test, pred)"
   ]
  },
  {
   "cell_type": "markdown",
   "id": "52e66827",
   "metadata": {},
   "source": [
    "Hence we see an improvement in accuracy after using C=100"
   ]
  },
  {
   "cell_type": "code",
   "execution_count": 254,
   "id": "632921f4",
   "metadata": {},
   "outputs": [
    {
     "name": "stderr",
     "output_type": "stream",
     "text": [
      "/home/uca/.local/lib/python3.8/site-packages/sklearn/utils/validation.py:1675: FutureWarning: Feature names only support names that are all strings. Got feature names with dtypes: ['tuple']. An error will be raised in 1.2.\n",
      "  warnings.warn(\n",
      "/home/uca/.local/lib/python3.8/site-packages/sklearn/utils/validation.py:1675: FutureWarning: Feature names only support names that are all strings. Got feature names with dtypes: ['tuple']. An error will be raised in 1.2.\n",
      "  warnings.warn(\n"
     ]
    }
   ],
   "source": [
    "#lets again train the model using C=1000\n",
    "svc_classifier = SVC(C=1000)\n",
    "svc_classifier.fit(x_train, y_train)\n",
    "y_prediction = svc_classifier.predict(x_test)"
   ]
  },
  {
   "cell_type": "code",
   "execution_count": 255,
   "id": "f687cdc3",
   "metadata": {},
   "outputs": [
    {
     "data": {
      "text/plain": [
       "0.9815642458100559"
      ]
     },
     "execution_count": 255,
     "metadata": {},
     "output_type": "execute_result"
    }
   ],
   "source": [
    "#now find accuracy\n",
    "accuracy_score(y_test, y_prediction)"
   ]
  },
  {
   "cell_type": "markdown",
   "id": "f483fc24",
   "metadata": {},
   "source": [
    "with C=1000 our model's accuracy decreased "
   ]
  },
  {
   "cell_type": "code",
   "execution_count": 256,
   "id": "1f21326c",
   "metadata": {},
   "outputs": [
    {
     "name": "stderr",
     "output_type": "stream",
     "text": [
      "/home/uca/.local/lib/python3.8/site-packages/sklearn/utils/validation.py:1675: FutureWarning: Feature names only support names that are all strings. Got feature names with dtypes: ['tuple']. An error will be raised in 1.2.\n",
      "  warnings.warn(\n",
      "/home/uca/.local/lib/python3.8/site-packages/sklearn/utils/validation.py:1675: FutureWarning: Feature names only support names that are all strings. Got feature names with dtypes: ['tuple']. An error will be raised in 1.2.\n",
      "  warnings.warn(\n"
     ]
    },
    {
     "data": {
      "text/plain": [
       "0.9829608938547486"
      ]
     },
     "execution_count": 256,
     "metadata": {},
     "output_type": "execute_result"
    }
   ],
   "source": [
    "#now use linear kernel and C=1 and train our model\n",
    "\n",
    "linear_svc = SVC(kernel='linear', C=1)\n",
    "linear_svc.fit(x_train, y_train)\n",
    "linear_pred = linear_svc.predict(x_test)\n",
    "\n",
    "#now find accuracy\n",
    "accuracy_score(y_test, linear_pred)"
   ]
  },
  {
   "cell_type": "markdown",
   "id": "cdbbc6db",
   "metadata": {},
   "source": [
    "Since accuracy score is again improved"
   ]
  },
  {
   "cell_type": "code",
   "execution_count": 257,
   "id": "a8bde853",
   "metadata": {},
   "outputs": [
    {
     "name": "stderr",
     "output_type": "stream",
     "text": [
      "/home/uca/.local/lib/python3.8/site-packages/sklearn/utils/validation.py:1675: FutureWarning: Feature names only support names that are all strings. Got feature names with dtypes: ['tuple']. An error will be raised in 1.2.\n",
      "  warnings.warn(\n",
      "/home/uca/.local/lib/python3.8/site-packages/sklearn/utils/validation.py:1675: FutureWarning: Feature names only support names that are all strings. Got feature names with dtypes: ['tuple']. An error will be raised in 1.2.\n",
      "  warnings.warn(\n"
     ]
    },
    {
     "data": {
      "text/plain": [
       "0.9832402234636871"
      ]
     },
     "execution_count": 257,
     "metadata": {},
     "output_type": "execute_result"
    }
   ],
   "source": [
    "#now again use C=100 with linear kernel and see accuracy score\n",
    "\n",
    "linear_classifier = SVC(kernel='linear', C=100)\n",
    "linear_classifier.fit(x_train, y_train)\n",
    "pred_linear = linear_classifier.predict(x_test)\n",
    "\n",
    "#now aacuracy score\n",
    "accuracy_score(y_test, pred_linear)"
   ]
  },
  {
   "cell_type": "markdown",
   "id": "6b08b013",
   "metadata": {},
   "source": [
    "accuracy score again improved"
   ]
  },
  {
   "cell_type": "code",
   "execution_count": 258,
   "id": "ba1570b0",
   "metadata": {},
   "outputs": [
    {
     "name": "stderr",
     "output_type": "stream",
     "text": [
      "/home/uca/.local/lib/python3.8/site-packages/sklearn/utils/validation.py:1675: FutureWarning: Feature names only support names that are all strings. Got feature names with dtypes: ['tuple']. An error will be raised in 1.2.\n",
      "  warnings.warn(\n",
      "/home/uca/.local/lib/python3.8/site-packages/sklearn/utils/validation.py:1675: FutureWarning: Feature names only support names that are all strings. Got feature names with dtypes: ['tuple']. An error will be raised in 1.2.\n",
      "  warnings.warn(\n"
     ]
    },
    {
     "data": {
      "text/plain": [
       "0.9832402234636871"
      ]
     },
     "execution_count": 258,
     "metadata": {},
     "output_type": "execute_result"
    }
   ],
   "source": [
    "#now check for C=1000 with linear kernel\n",
    "\n",
    "linear_svc = SVC(kernel='linear', C=1000)\n",
    "linear_svc.fit(x_train, y_train)\n",
    "svc_pred = linear_svc.predict(x_test)\n",
    "\n",
    "#now calculate accuracy\n",
    "accuracy_score(y_test, svc_pred)"
   ]
  },
  {
   "cell_type": "markdown",
   "id": "66dbc222",
   "metadata": {},
   "source": [
    "Hence accuracy is maintained"
   ]
  },
  {
   "cell_type": "code",
   "execution_count": 260,
   "id": "aebc95c0",
   "metadata": {},
   "outputs": [
    {
     "name": "stderr",
     "output_type": "stream",
     "text": [
      "/home/uca/.local/lib/python3.8/site-packages/sklearn/utils/validation.py:1675: FutureWarning: Feature names only support names that are all strings. Got feature names with dtypes: ['tuple']. An error will be raised in 1.2.\n",
      "  warnings.warn(\n",
      "/home/uca/.local/lib/python3.8/site-packages/sklearn/utils/validation.py:1675: FutureWarning: Feature names only support names that are all strings. Got feature names with dtypes: ['tuple']. An error will be raised in 1.2.\n",
      "  warnings.warn(\n"
     ]
    },
    {
     "data": {
      "text/plain": [
       "0.9782790892582763"
      ]
     },
     "execution_count": 260,
     "metadata": {},
     "output_type": "execute_result"
    }
   ],
   "source": [
    "#now lets compare accuracy of train data with the test data which we have already found\n",
    "\n",
    "y_pred_train = SVC(kernel='linear', C=1)\n",
    "y_pred_train.fit(x_train, y_train)\n",
    "pred_y = y_pred_train.predict(x_train)\n",
    "\n",
    "#now accuracy \n",
    "accuracy_score(y_train, pred_y)"
   ]
  },
  {
   "cell_type": "markdown",
   "id": "1bbc2b47",
   "metadata": {},
   "source": [
    "we can see training and testing accuracy are comaprable"
   ]
  },
  {
   "cell_type": "code",
   "execution_count": 263,
   "id": "a10c812b",
   "metadata": {},
   "outputs": [
    {
     "name": "stdout",
     "output_type": "stream",
     "text": [
      "Accuracy of the training data is  0.9782790892582763\n",
      "Accuracy of the testing data is  0.9832402234636871\n"
     ]
    }
   ],
   "source": [
    "#compare the accuracy of training data and testing data\n",
    "\n",
    "print(\"Accuracy of the training data is \", accuracy_score(y_train, pred_y))\n",
    "print(\"Accuracy of the testing data is \", accuracy_score(y_test, pred_linear))"
   ]
  },
  {
   "cell_type": "markdown",
   "id": "2c4dac6d",
   "metadata": {},
   "source": [
    "Since the accuracy of testing data is quite higher than the training data. We cannot question about underfitting or overfitting as the accuraies are comparable."
   ]
  },
  {
   "cell_type": "raw",
   "id": "e81fb3b1",
   "metadata": {},
   "source": [
    "As the model accuracy is aprroximately 98.32% and we cannot say either this is good or bad, we should compare it with null accuracy to make a conclusion. Null accuracy is the accuracy that could be achieved by always predicting the most frequent class   "
   ]
  },
  {
   "cell_type": "code",
   "execution_count": 264,
   "id": "68613771",
   "metadata": {},
   "outputs": [
    {
     "data": {
      "text/plain": [
       "0    3306\n",
       "1     274\n",
       "Name: Target_Class, dtype: int64"
      ]
     },
     "execution_count": 264,
     "metadata": {},
     "output_type": "execute_result"
    }
   ],
   "source": [
    "#check distribution in test class\n",
    "\n",
    "y_test.value_counts()"
   ]
  },
  {
   "cell_type": "markdown",
   "id": "5771538e",
   "metadata": {},
   "source": [
    "The most frequent class is 0 which occured 3306 times"
   ]
  },
  {
   "cell_type": "code",
   "execution_count": 266,
   "id": "c683f7c3",
   "metadata": {},
   "outputs": [
    {
     "data": {
      "text/plain": [
       "0.923463687150838"
      ]
     },
     "execution_count": 266,
     "metadata": {},
     "output_type": "execute_result"
    }
   ],
   "source": [
    "#null accuracy\n",
    "\n",
    "null_accuracy = 3306/len(y_test)\n",
    "null_accuracy"
   ]
  },
  {
   "cell_type": "markdown",
   "id": "15845d63",
   "metadata": {},
   "source": [
    "Since the model's accuracy is higher than null accuracy and we can conclude that our model is performing a good job"
   ]
  },
  {
   "cell_type": "markdown",
   "id": "0f91c9e1",
   "metadata": {},
   "source": [
    "# Run SVM with polynomial Kernel"
   ]
  },
  {
   "cell_type": "code",
   "execution_count": 270,
   "id": "7142df81",
   "metadata": {},
   "outputs": [
    {
     "name": "stderr",
     "output_type": "stream",
     "text": [
      "/home/uca/.local/lib/python3.8/site-packages/sklearn/utils/validation.py:1675: FutureWarning: Feature names only support names that are all strings. Got feature names with dtypes: ['tuple']. An error will be raised in 1.2.\n",
      "  warnings.warn(\n",
      "/home/uca/.local/lib/python3.8/site-packages/sklearn/utils/validation.py:1675: FutureWarning: Feature names only support names that are all strings. Got feature names with dtypes: ['tuple']. An error will be raised in 1.2.\n",
      "  warnings.warn(\n"
     ]
    },
    {
     "data": {
      "text/plain": [
       "0.9807262569832402"
      ]
     },
     "execution_count": 270,
     "metadata": {},
     "output_type": "execute_result"
    }
   ],
   "source": [
    "#C=1 and kernel=poly\n",
    "\n",
    "poly_svc = SVC(kernel='poly', C=1)\n",
    "poly_svc.fit(x_train, y_train)\n",
    "pred_poly1 = poly_svc.predict(x_test)\n",
    "\n",
    "#acuracy\n",
    "\n",
    "accuracy_score(y_test, pred_poly1)"
   ]
  },
  {
   "cell_type": "markdown",
   "id": "59cab2f1",
   "metadata": {},
   "source": [
    "model accuracy with C=1 and kernel='poly' is 98.07%"
   ]
  },
  {
   "cell_type": "code",
   "execution_count": 272,
   "id": "1d384635",
   "metadata": {},
   "outputs": [
    {
     "name": "stderr",
     "output_type": "stream",
     "text": [
      "/home/uca/.local/lib/python3.8/site-packages/sklearn/utils/validation.py:1675: FutureWarning: Feature names only support names that are all strings. Got feature names with dtypes: ['tuple']. An error will be raised in 1.2.\n",
      "  warnings.warn(\n",
      "/home/uca/.local/lib/python3.8/site-packages/sklearn/utils/validation.py:1675: FutureWarning: Feature names only support names that are all strings. Got feature names with dtypes: ['tuple']. An error will be raised in 1.2.\n",
      "  warnings.warn(\n"
     ]
    },
    {
     "data": {
      "text/plain": [
       "0.9824022346368715"
      ]
     },
     "execution_count": 272,
     "metadata": {},
     "output_type": "execute_result"
    }
   ],
   "source": [
    "#C=1 and kernel=poly\n",
    "\n",
    "poly_svc100 = SVC(kernel='poly', C=100)\n",
    "poly_svc100.fit(x_train, y_train)\n",
    "pred_poly100 = poly_svc100.predict(x_test)\n",
    "\n",
    "#accuracy\n",
    "accuracy_score(y_test, pred_poly100)"
   ]
  },
  {
   "cell_type": "markdown",
   "id": "798b8659",
   "metadata": {},
   "source": [
    "with C=100 and kernel='poly' we got accuracy is 98.24%. we conclude that linear kernel is performing better that poly"
   ]
  },
  {
   "cell_type": "markdown",
   "id": "a2f88db7",
   "metadata": {},
   "source": [
    "# Run SVC with Sigmoid kernel"
   ]
  },
  {
   "cell_type": "code",
   "execution_count": 273,
   "id": "35d049c1",
   "metadata": {},
   "outputs": [
    {
     "name": "stderr",
     "output_type": "stream",
     "text": [
      "/home/uca/.local/lib/python3.8/site-packages/sklearn/utils/validation.py:1675: FutureWarning: Feature names only support names that are all strings. Got feature names with dtypes: ['tuple']. An error will be raised in 1.2.\n",
      "  warnings.warn(\n",
      "/home/uca/.local/lib/python3.8/site-packages/sklearn/utils/validation.py:1675: FutureWarning: Feature names only support names that are all strings. Got feature names with dtypes: ['tuple']. An error will be raised in 1.2.\n",
      "  warnings.warn(\n"
     ]
    },
    {
     "data": {
      "text/plain": [
       "0.8857541899441341"
      ]
     },
     "execution_count": 273,
     "metadata": {},
     "output_type": "execute_result"
    }
   ],
   "source": [
    "# with kernel = 'sigmoid' and C=1, find accuracy\n",
    "sig_svc1 = SVC(kernel='sigmoid', C=1)\n",
    "sig_svc1.fit(x_train, y_train)\n",
    "pred_sig1 = sig_svc1.predict(x_test)\n",
    "\n",
    "#accuracy\n",
    "accuracy_score(y_test, pred_sig1)"
   ]
  },
  {
   "cell_type": "code",
   "execution_count": 274,
   "id": "37b26fcc",
   "metadata": {},
   "outputs": [
    {
     "name": "stderr",
     "output_type": "stream",
     "text": [
      "/home/uca/.local/lib/python3.8/site-packages/sklearn/utils/validation.py:1675: FutureWarning: Feature names only support names that are all strings. Got feature names with dtypes: ['tuple']. An error will be raised in 1.2.\n",
      "  warnings.warn(\n",
      "/home/uca/.local/lib/python3.8/site-packages/sklearn/utils/validation.py:1675: FutureWarning: Feature names only support names that are all strings. Got feature names with dtypes: ['tuple']. An error will be raised in 1.2.\n",
      "  warnings.warn(\n"
     ]
    },
    {
     "data": {
      "text/plain": [
       "0.8854748603351955"
      ]
     },
     "execution_count": 274,
     "metadata": {},
     "output_type": "execute_result"
    }
   ],
   "source": [
    "#with kernel=sigmoid and C=100\n",
    "\n",
    "sig_svc100 =SVC(kernel='sigmoid', C=100)\n",
    "sig_svc100.fit(x_train, y_train)\n",
    "pred_sig100 = sig_svc100.predict(x_test)\n",
    "\n",
    "#accuracy\n",
    "accuracy_score(y_test, pred_sig100)"
   ]
  },
  {
   "cell_type": "markdown",
   "id": "c632ca45",
   "metadata": {},
   "source": [
    "As we can see that sigmoid is also not perforing good compare to linear"
   ]
  },
  {
   "cell_type": "markdown",
   "id": "b29bbedf",
   "metadata": {},
   "source": [
    "# Confusion Matrix"
   ]
  },
  {
   "cell_type": "markdown",
   "id": "460d2c47",
   "metadata": {},
   "source": [
    "As accuracy is not the best way to compare a model, so we can make confusion matrix"
   ]
  },
  {
   "cell_type": "code",
   "execution_count": null,
   "id": "479ed5f3",
   "metadata": {},
   "outputs": [],
   "source": []
  }
 ],
 "metadata": {
  "kernelspec": {
   "display_name": "Python 3 (ipykernel)",
   "language": "python",
   "name": "python3"
  },
  "language_info": {
   "codemirror_mode": {
    "name": "ipython",
    "version": 3
   },
   "file_extension": ".py",
   "mimetype": "text/x-python",
   "name": "python",
   "nbconvert_exporter": "python",
   "pygments_lexer": "ipython3",
   "version": "3.8.10"
  }
 },
 "nbformat": 4,
 "nbformat_minor": 5
}
