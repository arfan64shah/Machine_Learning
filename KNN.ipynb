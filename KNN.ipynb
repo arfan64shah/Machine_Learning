{
 "cells": [
  {
   "cell_type": "code",
   "execution_count": 2,
   "id": "28d3831c",
   "metadata": {},
   "outputs": [],
   "source": [
    "#lets read the csv file using pandas \n",
    "import pandas as pd\n",
    "dataset = pd.read_csv('estate_data.csv')"
   ]
  },
  {
   "cell_type": "code",
   "execution_count": 4,
   "id": "9404f052",
   "metadata": {},
   "outputs": [
    {
     "data": {
      "text/html": [
       "<div>\n",
       "<style scoped>\n",
       "    .dataframe tbody tr th:only-of-type {\n",
       "        vertical-align: middle;\n",
       "    }\n",
       "\n",
       "    .dataframe tbody tr th {\n",
       "        vertical-align: top;\n",
       "    }\n",
       "\n",
       "    .dataframe thead th {\n",
       "        text-align: right;\n",
       "    }\n",
       "</style>\n",
       "<table border=\"1\" class=\"dataframe\">\n",
       "  <thead>\n",
       "    <tr style=\"text-align: right;\">\n",
       "      <th></th>\n",
       "      <th>number_of_rooms</th>\n",
       "      <th>floor</th>\n",
       "      <th>area</th>\n",
       "      <th>address</th>\n",
       "      <th>date</th>\n",
       "      <th>price</th>\n",
       "    </tr>\n",
       "  </thead>\n",
       "  <tbody>\n",
       "    <tr>\n",
       "      <th>0</th>\n",
       "      <td>1</td>\n",
       "      <td>1</td>\n",
       "      <td>58.0</td>\n",
       "      <td>Сомони</td>\n",
       "      <td>Сегодня 21:56</td>\n",
       "      <td>330000</td>\n",
       "    </tr>\n",
       "    <tr>\n",
       "      <th>1</th>\n",
       "      <td>1</td>\n",
       "      <td>14</td>\n",
       "      <td>68.0</td>\n",
       "      <td>92 мкр</td>\n",
       "      <td>Сегодня 21:56</td>\n",
       "      <td>340000</td>\n",
       "    </tr>\n",
       "    <tr>\n",
       "      <th>2</th>\n",
       "      <td>3</td>\n",
       "      <td>8</td>\n",
       "      <td>50.0</td>\n",
       "      <td>NaN</td>\n",
       "      <td>Сегодня 21:55</td>\n",
       "      <td>700000</td>\n",
       "    </tr>\n",
       "    <tr>\n",
       "      <th>3</th>\n",
       "      <td>3</td>\n",
       "      <td>14</td>\n",
       "      <td>84.0</td>\n",
       "      <td>112 мкр</td>\n",
       "      <td>Сегодня 21:51</td>\n",
       "      <td>700000</td>\n",
       "    </tr>\n",
       "    <tr>\n",
       "      <th>4</th>\n",
       "      <td>3</td>\n",
       "      <td>3</td>\n",
       "      <td>83.0</td>\n",
       "      <td>фабрика Ширин</td>\n",
       "      <td>Сегодня 21:48</td>\n",
       "      <td>415000</td>\n",
       "    </tr>\n",
       "    <tr>\n",
       "      <th>...</th>\n",
       "      <td>...</td>\n",
       "      <td>...</td>\n",
       "      <td>...</td>\n",
       "      <td>...</td>\n",
       "      <td>...</td>\n",
       "      <td>...</td>\n",
       "    </tr>\n",
       "    <tr>\n",
       "      <th>5574</th>\n",
       "      <td>4</td>\n",
       "      <td>16</td>\n",
       "      <td>125.0</td>\n",
       "      <td>Ориентир Кафе Сорбон</td>\n",
       "      <td>08.01.2022 09:51</td>\n",
       "      <td>600000</td>\n",
       "    </tr>\n",
       "    <tr>\n",
       "      <th>5575</th>\n",
       "      <td>2</td>\n",
       "      <td>17</td>\n",
       "      <td>71.0</td>\n",
       "      <td>Ориентир Торгово-Жилой Комплекс Ватан</td>\n",
       "      <td>07.01.2022 15:18</td>\n",
       "      <td>489900</td>\n",
       "    </tr>\n",
       "    <tr>\n",
       "      <th>5576</th>\n",
       "      <td>1</td>\n",
       "      <td>9</td>\n",
       "      <td>51.0</td>\n",
       "      <td>Ориентир Бизнес Центр SAS</td>\n",
       "      <td>06.01.2022 14:41</td>\n",
       "      <td>361220</td>\n",
       "    </tr>\n",
       "    <tr>\n",
       "      <th>5577</th>\n",
       "      <td>6</td>\n",
       "      <td>6</td>\n",
       "      <td>200.0</td>\n",
       "      <td>ориентир Опера</td>\n",
       "      <td>06.01.2022 14:08</td>\n",
       "      <td>1500000</td>\n",
       "    </tr>\n",
       "    <tr>\n",
       "      <th>5578</th>\n",
       "      <td>1</td>\n",
       "      <td>10</td>\n",
       "      <td>44.0</td>\n",
       "      <td>Ориентир Ватан</td>\n",
       "      <td>06.01.2022 12:04</td>\n",
       "      <td>304650</td>\n",
       "    </tr>\n",
       "  </tbody>\n",
       "</table>\n",
       "<p>5579 rows × 6 columns</p>\n",
       "</div>"
      ],
      "text/plain": [
       "      number_of_rooms  floor   area                                address  \\\n",
       "0                   1      1   58.0                                 Сомони   \n",
       "1                   1     14   68.0                                 92 мкр   \n",
       "2                   3      8   50.0                                    NaN   \n",
       "3                   3     14   84.0                                112 мкр   \n",
       "4                   3      3   83.0                          фабрика Ширин   \n",
       "...               ...    ...    ...                                    ...   \n",
       "5574                4     16  125.0                   Ориентир Кафе Сорбон   \n",
       "5575                2     17   71.0  Ориентир Торгово-Жилой Комплекс Ватан   \n",
       "5576                1      9   51.0              Ориентир Бизнес Центр SAS   \n",
       "5577                6      6  200.0                         ориентир Опера   \n",
       "5578                1     10   44.0                         Ориентир Ватан   \n",
       "\n",
       "                  date    price  \n",
       "0        Сегодня 21:56   330000  \n",
       "1        Сегодня 21:56   340000  \n",
       "2        Сегодня 21:55   700000  \n",
       "3        Сегодня 21:51   700000  \n",
       "4        Сегодня 21:48   415000  \n",
       "...                ...      ...  \n",
       "5574  08.01.2022 09:51   600000  \n",
       "5575  07.01.2022 15:18   489900  \n",
       "5576  06.01.2022 14:41   361220  \n",
       "5577  06.01.2022 14:08  1500000  \n",
       "5578  06.01.2022 12:04   304650  \n",
       "\n",
       "[5579 rows x 6 columns]"
      ]
     },
     "execution_count": 4,
     "metadata": {},
     "output_type": "execute_result"
    }
   ],
   "source": [
    "dataset"
   ]
  },
  {
   "cell_type": "code",
   "execution_count": null,
   "id": "a4564037",
   "metadata": {},
   "outputs": [],
   "source": [
    "dataset1 = dataset.drop(['address', 'date'], axis=1)"
   ]
  },
  {
   "cell_type": "code",
   "execution_count": null,
   "id": "73171670",
   "metadata": {},
   "outputs": [],
   "source": [
    "dataset1"
   ]
  },
  {
   "cell_type": "code",
   "execution_count": 8,
   "id": "1c36dd9a",
   "metadata": {},
   "outputs": [],
   "source": [
    "#here we are calssifying dataset into dependent and independent variables\n",
    "x = dataset1.iloc[:, : -1]\n",
    "y = dataset1.iloc[:, -1]"
   ]
  },
  {
   "cell_type": "code",
   "execution_count": 9,
   "id": "b97fa98e",
   "metadata": {},
   "outputs": [],
   "source": [
    "#lets now split the dataset into training and testing\n",
    "from sklearn.model_selection import train_test_split\n",
    "x_train, x_test, y_train, y_test = train_test_split(x, y, test_size=0.2, random_state=0)"
   ]
  },
  {
   "cell_type": "code",
   "execution_count": 10,
   "id": "cb022549",
   "metadata": {},
   "outputs": [
    {
     "data": {
      "text/plain": [
       "KNeighborsRegressor(n_neighbors=15)"
      ]
     },
     "execution_count": 10,
     "metadata": {},
     "output_type": "execute_result"
    }
   ],
   "source": [
    "#now lets apply knn regressor\n",
    "from sklearn.neighbors import KNeighborsRegressor\n",
    "knn = KNeighborsRegressor(n_neighbors=15)\n",
    "knn.fit(x_train, y_train)"
   ]
  },
  {
   "cell_type": "code",
   "execution_count": 11,
   "id": "567b68bd",
   "metadata": {},
   "outputs": [],
   "source": [
    "#now predict the values using our model\n",
    "y_pred = knn.predict(x_test)"
   ]
  },
  {
   "cell_type": "code",
   "execution_count": 12,
   "id": "647eeb6b",
   "metadata": {},
   "outputs": [
    {
     "data": {
      "text/plain": [
       "array([276800.        , 494559.86666667, 749561.2       , ...,\n",
       "       933161.06666667, 649280.        , 630666.66666667])"
      ]
     },
     "execution_count": 12,
     "metadata": {},
     "output_type": "execute_result"
    }
   ],
   "source": [
    "y_pred"
   ]
  },
  {
   "cell_type": "code",
   "execution_count": 13,
   "id": "9979291f",
   "metadata": {},
   "outputs": [
    {
     "data": {
      "image/png": "[encoded data removed]",
      "text/plain": [
       "<Figure size 432x288 with 1 Axes>"
      ]
     },
     "metadata": {
      "needs_background": "light"
     },
     "output_type": "display_data"
    }
   ],
   "source": [
    "#now lets make a graph and see\n",
    "import matplotlib.pyplot as plt\n",
    "test = plt\n",
    "test.scatter(y_test, y_pred, color=\"red\")\n",
    "test.title(\"Actaul Values VS Predicted Values\")\n",
    "test.xlabel(\"Actual Values\")\n",
    "test.ylabel(\"Predicted Values\")\n",
    "test.show()"
   ]
  },
  {
   "cell_type": "code",
   "execution_count": 14,
   "id": "cc4b7afb",
   "metadata": {},
   "outputs": [
    {
     "name": "stdout",
     "output_type": "stream",
     "text": [
      "Mean Absoluet Error (MAE) is  129371.98614097969\n",
      "Root Mean Absolute Error (RMAE) is  359.68317467040305\n",
      "R2 is  0.6780849183771409\n"
     ]
    }
   ],
   "source": [
    "#now lets calculate models accuray by finding mean absolute error\n",
    "from sklearn.metrics import mean_absolute_error, r2_score\n",
    "import math as math\n",
    "print(\"Mean Absoluet Error (MAE) is \", mean_absolute_error(y_test, y_pred))\n",
    "print(\"Root Mean Absolute Error (RMAE) is \", math.sqrt(mean_absolute_error(y_test, y_pred)))\n",
    "print(\"R2 is \", r2_score(y_test, y_pred))"
   ]
  }
 ],
 "metadata": {
  "kernelspec": {
   "display_name": "Python 3 (ipykernel)",
   "language": "python",
   "name": "python3"
  },
  "language_info": {
   "codemirror_mode": {
    "name": "ipython",
    "version": 3
   },
   "file_extension": ".py",
   "mimetype": "text/x-python",
   "name": "python",
   "nbconvert_exporter": "python",
   "pygments_lexer": "ipython3",
   "version": "3.10.7"
  }
 },
 "nbformat": 4,
 "nbformat_minor": 5
}
