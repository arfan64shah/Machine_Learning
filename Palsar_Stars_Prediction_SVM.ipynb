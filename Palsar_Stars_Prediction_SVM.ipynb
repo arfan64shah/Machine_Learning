{
 "cells": [
  {
   "cell_type": "code",
   "execution_count": 2,
   "id": "ebc039c2",
   "metadata": {},
   "outputs": [],
   "source": [
    "#import required libararies and read dataset\n",
    "import pandas as pd\n",
    "import numpy as np\n",
    "\n",
    "dataset = pd.read_csv(\"pulsar_stars.csv\")"
   ]
  },
  {
   "cell_type": "code",
   "execution_count": 11,
   "id": "4768480c",
   "metadata": {},
   "outputs": [
    {
     "data": {
      "text/html": [
       "<div>\n",
       "<style scoped>\n",
       "    .dataframe tbody tr th:only-of-type {\n",
       "        vertical-align: middle;\n",
       "    }\n",
       "\n",
       "    .dataframe tbody tr th {\n",
       "        vertical-align: top;\n",
       "    }\n",
       "\n",
       "    .dataframe thead th {\n",
       "        text-align: right;\n",
       "    }\n",
       "</style>\n",
       "<table border=\"1\" class=\"dataframe\">\n",
       "  <thead>\n",
       "    <tr style=\"text-align: right;\">\n",
       "      <th></th>\n",
       "      <th>Mean_of_the_integrated_profile</th>\n",
       "      <th>Standard_deviation_of_the_integrated_profile</th>\n",
       "      <th>Excess_kurtosis_of_the_integrated_profile</th>\n",
       "      <th>Skewness_of_the_integrated_profile</th>\n",
       "      <th>Mean_of_the_DM_SNR_curve</th>\n",
       "      <th>Standard_deviation_of_the_DM_SNR_curve</th>\n",
       "      <th>Excess_kurtosis_of_the_DM_SNR_curve</th>\n",
       "      <th>Skewness_of_the_DM_SNR_curve</th>\n",
       "      <th>target_class</th>\n",
       "    </tr>\n",
       "  </thead>\n",
       "  <tbody>\n",
       "    <tr>\n",
       "      <th>0</th>\n",
       "      <td>140.562500</td>\n",
       "      <td>55.683782</td>\n",
       "      <td>-0.234571</td>\n",
       "      <td>-0.699648</td>\n",
       "      <td>3.199833</td>\n",
       "      <td>19.110426</td>\n",
       "      <td>7.975532</td>\n",
       "      <td>74.242225</td>\n",
       "      <td>0</td>\n",
       "    </tr>\n",
       "    <tr>\n",
       "      <th>1</th>\n",
       "      <td>102.507812</td>\n",
       "      <td>58.882430</td>\n",
       "      <td>0.465318</td>\n",
       "      <td>-0.515088</td>\n",
       "      <td>1.677258</td>\n",
       "      <td>14.860146</td>\n",
       "      <td>10.576487</td>\n",
       "      <td>127.393580</td>\n",
       "      <td>0</td>\n",
       "    </tr>\n",
       "    <tr>\n",
       "      <th>2</th>\n",
       "      <td>103.015625</td>\n",
       "      <td>39.341649</td>\n",
       "      <td>0.323328</td>\n",
       "      <td>1.051164</td>\n",
       "      <td>3.121237</td>\n",
       "      <td>21.744669</td>\n",
       "      <td>7.735822</td>\n",
       "      <td>63.171909</td>\n",
       "      <td>0</td>\n",
       "    </tr>\n",
       "    <tr>\n",
       "      <th>3</th>\n",
       "      <td>136.750000</td>\n",
       "      <td>57.178449</td>\n",
       "      <td>-0.068415</td>\n",
       "      <td>-0.636238</td>\n",
       "      <td>3.642977</td>\n",
       "      <td>20.959280</td>\n",
       "      <td>6.896499</td>\n",
       "      <td>53.593661</td>\n",
       "      <td>0</td>\n",
       "    </tr>\n",
       "    <tr>\n",
       "      <th>4</th>\n",
       "      <td>88.726562</td>\n",
       "      <td>40.672225</td>\n",
       "      <td>0.600866</td>\n",
       "      <td>1.123492</td>\n",
       "      <td>1.178930</td>\n",
       "      <td>11.468720</td>\n",
       "      <td>14.269573</td>\n",
       "      <td>252.567306</td>\n",
       "      <td>0</td>\n",
       "    </tr>\n",
       "  </tbody>\n",
       "</table>\n",
       "</div>"
      ],
      "text/plain": [
       "   Mean_of_the_integrated_profile  \\\n",
       "0                      140.562500   \n",
       "1                      102.507812   \n",
       "2                      103.015625   \n",
       "3                      136.750000   \n",
       "4                       88.726562   \n",
       "\n",
       "   Standard_deviation_of_the_integrated_profile  \\\n",
       "0                                     55.683782   \n",
       "1                                     58.882430   \n",
       "2                                     39.341649   \n",
       "3                                     57.178449   \n",
       "4                                     40.672225   \n",
       "\n",
       "   Excess_kurtosis_of_the_integrated_profile  \\\n",
       "0                                  -0.234571   \n",
       "1                                   0.465318   \n",
       "2                                   0.323328   \n",
       "3                                  -0.068415   \n",
       "4                                   0.600866   \n",
       "\n",
       "   Skewness_of_the_integrated_profile  Mean_of_the_DM_SNR_curve  \\\n",
       "0                           -0.699648                  3.199833   \n",
       "1                           -0.515088                  1.677258   \n",
       "2                            1.051164                  3.121237   \n",
       "3                           -0.636238                  3.642977   \n",
       "4                            1.123492                  1.178930   \n",
       "\n",
       "   Standard_deviation_of_the_DM_SNR_curve  \\\n",
       "0                               19.110426   \n",
       "1                               14.860146   \n",
       "2                               21.744669   \n",
       "3                               20.959280   \n",
       "4                               11.468720   \n",
       "\n",
       "    Excess_kurtosis_of_the_DM_SNR_curve   Skewness_of_the_DM_SNR_curve  \\\n",
       "0                              7.975532                      74.242225   \n",
       "1                             10.576487                     127.393580   \n",
       "2                              7.735822                      63.171909   \n",
       "3                              6.896499                      53.593661   \n",
       "4                             14.269573                     252.567306   \n",
       "\n",
       "   target_class  \n",
       "0             0  \n",
       "1             0  \n",
       "2             0  \n",
       "3             0  \n",
       "4             0  "
      ]
     },
     "execution_count": 11,
     "metadata": {},
     "output_type": "execute_result"
    }
   ],
   "source": [
    "dataset.head()"
   ]
  },
  {
   "cell_type": "code",
   "execution_count": 4,
   "id": "258c7652",
   "metadata": {},
   "outputs": [
    {
     "data": {
      "text/plain": [
       "(17898, 9)"
      ]
     },
     "execution_count": 4,
     "metadata": {},
     "output_type": "execute_result"
    }
   ],
   "source": [
    "#shape of dataset\n",
    "dataset.shape"
   ]
  },
  {
   "cell_type": "code",
   "execution_count": 5,
   "id": "8c9007f3",
   "metadata": {},
   "outputs": [
    {
     "data": {
      "text/plain": [
       "Mean_of_the_integrated_profile                  0\n",
       "Standard_deviation_of_the_integrated_profile    0\n",
       "Excess_kurtosis_of_the_integrated_profile       0\n",
       "Skewness_of_the_integrated_profile              0\n",
       "Mean_of_the_DM_SNR_curve                        0\n",
       "Standard_deviation_of_the_DM_SNR_curve          0\n",
       " Excess_kurtosis_of_the_DM_SNR_curve            0\n",
       " Skewness_of_the_DM_SNR_curve                   0\n",
       "target_class                                    0\n",
       "dtype: int64"
      ]
     },
     "execution_count": 5,
     "metadata": {},
     "output_type": "execute_result"
    }
   ],
   "source": [
    "#null values\n",
    "dataset.isnull().sum()"
   ]
  },
  {
   "cell_type": "code",
   "execution_count": 6,
   "id": "98c3d8f2",
   "metadata": {},
   "outputs": [
    {
     "name": "stdout",
     "output_type": "stream",
     "text": [
      "<class 'pandas.core.frame.DataFrame'>\n",
      "RangeIndex: 17898 entries, 0 to 17897\n",
      "Data columns (total 9 columns):\n",
      " #   Column                                        Non-Null Count  Dtype  \n",
      "---  ------                                        --------------  -----  \n",
      " 0   Mean_of_the_integrated_profile                17898 non-null  float64\n",
      " 1   Standard_deviation_of_the_integrated_profile  17898 non-null  float64\n",
      " 2   Excess_kurtosis_of_the_integrated_profile     17898 non-null  float64\n",
      " 3   Skewness_of_the_integrated_profile            17898 non-null  float64\n",
      " 4   Mean_of_the_DM_SNR_curve                      17898 non-null  float64\n",
      " 5   Standard_deviation_of_the_DM_SNR_curve        17898 non-null  float64\n",
      " 6    Excess_kurtosis_of_the_DM_SNR_curve          17898 non-null  float64\n",
      " 7    Skewness_of_the_DM_SNR_curve                 17898 non-null  float64\n",
      " 8   target_class                                  17898 non-null  int64  \n",
      "dtypes: float64(8), int64(1)\n",
      "memory usage: 1.2 MB\n"
     ]
    }
   ],
   "source": [
    "#other information about dataset\n",
    "dataset.info()"
   ]
  },
  {
   "cell_type": "code",
   "execution_count": 16,
   "id": "2f4d800c",
   "metadata": {},
   "outputs": [],
   "source": [
    "#separate dataset into dependent and independent features\n",
    "x = dataset.iloc[:, :-1]\n",
    "y = dataset.iloc[:, -1]"
   ]
  },
  {
   "cell_type": "code",
   "execution_count": 22,
   "id": "67c270e3",
   "metadata": {},
   "outputs": [],
   "source": [
    "#split data into training and tesing\n",
    "from sklearn.model_selection import train_test_split\n",
    "x_train, x_test, y_train, y_test = train_test_split(x, y, test_size=0.2, random_state=0) "
   ]
  },
  {
   "cell_type": "code",
   "execution_count": 24,
   "id": "f13e3f6f",
   "metadata": {},
   "outputs": [
    {
     "data": {
      "text/plain": [
       "SVC()"
      ]
     },
     "execution_count": 24,
     "metadata": {},
     "output_type": "execute_result"
    }
   ],
   "source": [
    "#now import svm classifier and fit data\n",
    "from sklearn.svm import SVC\n",
    "classifier = SVC()\n",
    "classifier.fit(x_train, y_train)"
   ]
  },
  {
   "cell_type": "code",
   "execution_count": 25,
   "id": "7e05351c",
   "metadata": {},
   "outputs": [],
   "source": [
    "#predict now\n",
    "y_predict = classifier.predict(x_test)"
   ]
  },
  {
   "cell_type": "code",
   "execution_count": 28,
   "id": "35d291ce",
   "metadata": {},
   "outputs": [
    {
     "data": {
      "text/plain": [
       "0.9784916201117319"
      ]
     },
     "execution_count": 28,
     "metadata": {},
     "output_type": "execute_result"
    }
   ],
   "source": [
    "#calculate accuracy\n",
    "from sklearn.metrics import accuracy_score\n",
    "accuracy = accuracy_score(y_predict, y_test)\n",
    "accuracy"
   ]
  },
  {
   "cell_type": "code",
   "execution_count": 29,
   "id": "62fceb27",
   "metadata": {},
   "outputs": [
    {
     "data": {
      "text/plain": [
       "array([[3292,   63],\n",
       "       [  14,  211]])"
      ]
     },
     "execution_count": 29,
     "metadata": {},
     "output_type": "execute_result"
    }
   ],
   "source": [
    "#now find confusion metrix\n",
    "from sklearn.metrics import confusion_matrix\n",
    "cm = confusion_matrix(y_predict, y_test)\n",
    "cm"
   ]
  },
  {
   "cell_type": "code",
   "execution_count": null,
   "id": "749cb0f3",
   "metadata": {},
   "outputs": [],
   "source": []
  }
 ],
 "metadata": {
  "kernelspec": {
   "display_name": "Python 3 (ipykernel)",
   "language": "python",
   "name": "python3"
  },
  "language_info": {
   "codemirror_mode": {
    "name": "ipython",
    "version": 3
   },
   "file_extension": ".py",
   "mimetype": "text/x-python",
   "name": "python",
   "nbconvert_exporter": "python",
   "pygments_lexer": "ipython3",
   "version": "3.8.10"
  }
 },
 "nbformat": 4,
 "nbformat_minor": 5
}
